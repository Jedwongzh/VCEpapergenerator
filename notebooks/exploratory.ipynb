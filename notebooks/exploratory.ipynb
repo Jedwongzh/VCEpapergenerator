{
 "cells": [
  {
   "cell_type": "markdown",
   "metadata": {},
   "source": [
    "# Exploratory Data Analysis for VCE Papers\n",
    "\n",
    "This notebook is intended for exploratory data analysis (EDA) of the VCE Methods and Specialist Maths papers. It will include visualizations, data summaries, and insights that can help in understanding the dataset and guiding the model training process."
   ]
  },
  {
   "cell_type": "code",
   "execution_count": null,
   "metadata": {},
   "outputs": [],
   "source": [
    "# Import necessary libraries\n",
    "import os\n",
    "import pandas as pd\n",
    "import matplotlib.pyplot as plt\n",
    "import seaborn as sns\n",
    "\n",
    "# Set visualization style\n",
    "sns.set(style='whitegrid')\n",
    "\n",
    "# Define paths to processed data\n",
    "methods_data_path = '../data/processed/methods/'\n",
    "specialist_data_path = '../data/processed/specialist/'\n",
    "\n",
    "# Load processed data\n",
    "methods_data = pd.read_csv(os.path.join(methods_data_path, 'processed_data.csv'))\n",
    "specialist_data = pd.read_csv(os.path.join(specialist_data_path, 'processed_data.csv'))\n",
    "\n",
    "# Display the first few rows of the Methods data\n",
    "print('Methods Data:')\n",
    "display(methods_data.head())\n",
    "\n",
    "# Display the first few rows of the Specialist data\n",
    "print('Specialist Data:')\n",
    "display(specialist_data.head())\n",
    "\n",
    "# Visualize the distribution of question types in Methods data\n",
    "plt.figure(figsize=(10, 6))\n",
    "sns.countplot(data=methods_data, x='question_type')\n",
    "plt.title('Distribution of Question Types in VCE Methods')\n",
    "plt.xlabel('Question Type')\n",
    "plt.ylabel('Count')\n",
    "plt.xticks(rotation=45)\n",
    "plt.show()\n",
    "\n",
    "# Visualize the distribution of question types in Specialist data\n",
    "plt.figure(figsize=(10, 6))\n",
    "sns.countplot(data=specialist_data, x='question_type')\n",
    "plt.title('Distribution of Question Types in VCE Specialist Maths')\n",
    "plt.xlabel('Question Type')\n",
    "plt.ylabel('Count')\n",
    "plt.xticks(rotation=45)\n",
    "plt.show()\n",
    "\n",
    "# Further analysis can be added here based on the dataset characteristics."
   ]
  }
 ],
 "metadata": {
  "language_info": {
   "name": "python"
  }
 },
 "nbformat": 4,
 "nbformat_minor": 2
}
